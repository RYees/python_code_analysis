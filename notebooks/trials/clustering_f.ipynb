{
 "cells": [
  {
   "cell_type": "code",
   "execution_count": 1,
   "metadata": {},
   "outputs": [
    {
     "name": "stderr",
     "output_type": "stream",
     "text": [
      "/opt/miniconda/envs/autog/lib/python3.10/site-packages/tqdm/auto.py:21: TqdmWarning: IProgress not found. Please update jupyter and ipywidgets. See https://ipywidgets.readthedocs.io/en/stable/user_install.html\n",
      "  from .autonotebook import tqdm as notebook_tqdm\n"
     ]
    },
    {
     "name": "stdout",
     "output_type": "stream",
     "text": [
      "config.py:get_openapi_token:35: get_auth(ssmkey=OPENAI_API_KEY, envvar=openai_apikey, fconfig=.env/openai_apikey.json)\n",
      "Getting tenx/env/vars from existing file /tmp/tenx_env_vars.json..\n",
      "using STRAPI_STAGE=unknown\n"
     ]
    }
   ],
   "source": [
    "import os, sys\n",
    "import pandas as pd\n",
    "import sys\n",
    "\n",
    "path='../../'\n",
    "if not path in sys.path:\n",
    "    sys.path.append(path)\n",
    "    \n",
    "import numpy as np\n",
    "from pprint import pprint\n",
    "from llm_model import *\n",
    "\n"
   ]
  },
  {
   "cell_type": "code",
   "execution_count": 2,
   "metadata": {},
   "outputs": [
    {
     "data": {
      "text/html": [
       "<div>\n",
       "<style scoped>\n",
       "    .dataframe tbody tr th:only-of-type {\n",
       "        vertical-align: middle;\n",
       "    }\n",
       "\n",
       "    .dataframe tbody tr th {\n",
       "        vertical-align: top;\n",
       "    }\n",
       "\n",
       "    .dataframe thead th {\n",
       "        text-align: right;\n",
       "    }\n",
       "</style>\n",
       "<table border=\"1\" class=\"dataframe\">\n",
       "  <thead>\n",
       "    <tr style=\"text-align: right;\">\n",
       "      <th></th>\n",
       "      <th>title</th>\n",
       "      <th>post_link</th>\n",
       "      <th>description</th>\n",
       "      <th>manual_cluster</th>\n",
       "    </tr>\n",
       "  </thead>\n",
       "  <tbody>\n",
       "    <tr>\n",
       "      <th>0</th>\n",
       "      <td>Java Software Engineer</td>\n",
       "      <td>https://www.linkedin.com/jobs/view/3372342081/...</td>\n",
       "      <td>About the job\\nAbout us\\n\\nIGT Solutions is a ...</td>\n",
       "      <td>1</td>\n",
       "    </tr>\n",
       "    <tr>\n",
       "      <th>1</th>\n",
       "      <td>Data Engineer</td>\n",
       "      <td>NaN</td>\n",
       "      <td>Hands-on experience in Airflow, REST API and P...</td>\n",
       "      <td>0</td>\n",
       "    </tr>\n",
       "    <tr>\n",
       "      <th>2</th>\n",
       "      <td>Software Engineer (Junior or Senior)</td>\n",
       "      <td>https://www.linkedin.com/jobs/view/3331733065/...</td>\n",
       "      <td>About the job\\nJob Description\\n\\nAbout Samoti...</td>\n",
       "      <td>1</td>\n",
       "    </tr>\n",
       "    <tr>\n",
       "      <th>3</th>\n",
       "      <td>Software Engineer</td>\n",
       "      <td>https://www.linkedin.com/jobs/view/3373533103/...</td>\n",
       "      <td>About the job\\nHi Connections,\\n\\nHope all you...</td>\n",
       "      <td>1</td>\n",
       "    </tr>\n",
       "    <tr>\n",
       "      <th>4</th>\n",
       "      <td>Data Engineer</td>\n",
       "      <td>https://www.linkedin.com/jobs/view/3241808693/...</td>\n",
       "      <td>About the job\\nWe are looking for a talented D...</td>\n",
       "      <td>0</td>\n",
       "    </tr>\n",
       "  </tbody>\n",
       "</table>\n",
       "</div>"
      ],
      "text/plain": [
       "                                  title  \\\n",
       "0                Java Software Engineer   \n",
       "1                         Data Engineer   \n",
       "2  Software Engineer (Junior or Senior)   \n",
       "3                     Software Engineer   \n",
       "4                         Data Engineer   \n",
       "\n",
       "                                           post_link  \\\n",
       "0  https://www.linkedin.com/jobs/view/3372342081/...   \n",
       "1                                                NaN   \n",
       "2  https://www.linkedin.com/jobs/view/3331733065/...   \n",
       "3  https://www.linkedin.com/jobs/view/3373533103/...   \n",
       "4  https://www.linkedin.com/jobs/view/3241808693/...   \n",
       "\n",
       "                                         description  manual_cluster  \n",
       "0  About the job\\nAbout us\\n\\nIGT Solutions is a ...               1  \n",
       "1  Hands-on experience in Airflow, REST API and P...               0  \n",
       "2  About the job\\nJob Description\\n\\nAbout Samoti...               1  \n",
       "3  About the job\\nHi Connections,\\n\\nHope all you...               1  \n",
       "4  About the job\\nWe are looking for a talented D...               0  "
      ]
     },
     "execution_count": 2,
     "metadata": {},
     "output_type": "execute_result"
    }
   ],
   "source": [
    "df2 = pd.read_csv('/home/tigisty/jobEngine/api.job-engine/api/output/extracted_skills/job_skill/job_desc.csv')\n",
    "df2.head()"
   ]
  },
  {
   "cell_type": "code",
   "execution_count": 3,
   "metadata": {},
   "outputs": [
    {
     "data": {
      "text/html": [
       "<div>\n",
       "<style scoped>\n",
       "    .dataframe tbody tr th:only-of-type {\n",
       "        vertical-align: middle;\n",
       "    }\n",
       "\n",
       "    .dataframe tbody tr th {\n",
       "        vertical-align: top;\n",
       "    }\n",
       "\n",
       "    .dataframe thead th {\n",
       "        text-align: right;\n",
       "    }\n",
       "</style>\n",
       "<table border=\"1\" class=\"dataframe\">\n",
       "  <thead>\n",
       "    <tr style=\"text-align: right;\">\n",
       "      <th></th>\n",
       "      <th>user_id</th>\n",
       "      <th>code_content</th>\n",
       "    </tr>\n",
       "  </thead>\n",
       "  <tbody>\n",
       "    <tr>\n",
       "      <th>0</th>\n",
       "      <td>619</td>\n",
       "      <td># Week_1_User_Analytics_in_the_Telecommunicati...</td>\n",
       "    </tr>\n",
       "    <tr>\n",
       "      <th>1</th>\n",
       "      <td>766</td>\n",
       "      <td>from sqlalchemy import create_engine\\n\\n\\nprin...</td>\n",
       "    </tr>\n",
       "    <tr>\n",
       "      <th>2</th>\n",
       "      <td>665</td>\n",
       "      <td>%reload_ext autoreload\\n\\n%autoreload 2\\nimpor...</td>\n",
       "    </tr>\n",
       "    <tr>\n",
       "      <th>3</th>\n",
       "      <td>606</td>\n",
       "      <td>import seaborn as sns\\nimport matplotlib.pyplo...</td>\n",
       "    </tr>\n",
       "    <tr>\n",
       "      <th>4</th>\n",
       "      <td>699</td>\n",
       "      <td># Telecom_Data_Analysis\\n\\n## Overview\\n\\nThis...</td>\n",
       "    </tr>\n",
       "  </tbody>\n",
       "</table>\n",
       "</div>"
      ],
      "text/plain": [
       "   user_id                                       code_content\n",
       "0      619  # Week_1_User_Analytics_in_the_Telecommunicati...\n",
       "1      766  from sqlalchemy import create_engine\\n\\n\\nprin...\n",
       "2      665  %reload_ext autoreload\\n\\n%autoreload 2\\nimpor...\n",
       "3      606  import seaborn as sns\\nimport matplotlib.pyplo...\n",
       "4      699  # Telecom_Data_Analysis\\n\\n## Overview\\n\\nThis..."
      ]
     },
     "execution_count": 3,
     "metadata": {},
     "output_type": "execute_result"
    }
   ],
   "source": [
    "jobs_df = pd.read_csv('/home/tigisty/jobEngine/api.job-engine/api/output/extracted_skills/job_skill/dat.csv')\n",
    "jobs_df.head()"
   ]
  },
  {
   "cell_type": "code",
   "execution_count": 3,
   "metadata": {},
   "outputs": [
    {
     "data": {
      "text/plain": [
       "(201, 2)"
      ]
     },
     "execution_count": 3,
     "metadata": {},
     "output_type": "execute_result"
    }
   ],
   "source": [
    "jobs_df.shape"
   ]
  },
  {
   "cell_type": "code",
   "execution_count": 30,
   "metadata": {},
   "outputs": [],
   "source": [
    "df = jobs_df.sample(n=2, random_state=42)\n"
   ]
  },
  {
   "cell_type": "code",
   "execution_count": 29,
   "metadata": {},
   "outputs": [],
   "source": [
    "def job_clustering_using_text_embedding2(jobs_df):\n",
    "    client = OpenAI(api_key=openai_api_key)\n",
    "    job_embeddings = []\n",
    "\n",
    "    for description in jobs_df['code_content']:\n",
    "        response = client.embeddings.create(\n",
    "            input=description,\n",
    "            model=\"text-embedding-3-small\"\n",
    "        )\n",
    "        embedding = response.data[0].embedding\n",
    "        job_embeddings.append(embedding)\n",
    "\n",
    "    job_embeddings = np.array(job_embeddings)\n",
    "    \n",
    "    # optimal_k = silhouette_to_find_optimal_k(job_embeddings)\n",
    "    optimal_k = 2\n",
    "    \n",
    "    kmeans = KMeans(n_clusters=optimal_k, random_state=42, n_init=10)\n",
    "    cluster_labels = kmeans.fit_predict(job_embeddings)\n",
    "    # centroids = kmeans.cluster_centers_\n",
    "    return cluster_labels, job_embeddings"
   ]
  },
  {
   "cell_type": "code",
   "execution_count": 9,
   "metadata": {},
   "outputs": [],
   "source": [
    "cluster_labels, job_embeddings = job_clustering_using_text_embedding2(df2)"
   ]
  },
  {
   "cell_type": "code",
   "execution_count": 31,
   "metadata": {},
   "outputs": [],
   "source": [
    "cluster_labels, job_embeddings = job_clustering_using_text_embedding2(df)"
   ]
  },
  {
   "cell_type": "code",
   "execution_count": 33,
   "metadata": {},
   "outputs": [],
   "source": [
    "df['text_embedding_cluster'] = cluster_labels\n"
   ]
  },
  {
   "cell_type": "code",
   "execution_count": 34,
   "metadata": {},
   "outputs": [
    {
     "data": {
      "text/html": [
       "<div>\n",
       "<style scoped>\n",
       "    .dataframe tbody tr th:only-of-type {\n",
       "        vertical-align: middle;\n",
       "    }\n",
       "\n",
       "    .dataframe tbody tr th {\n",
       "        vertical-align: top;\n",
       "    }\n",
       "\n",
       "    .dataframe thead th {\n",
       "        text-align: right;\n",
       "    }\n",
       "</style>\n",
       "<table border=\"1\" class=\"dataframe\">\n",
       "  <thead>\n",
       "    <tr style=\"text-align: right;\">\n",
       "      <th></th>\n",
       "      <th>user_id</th>\n",
       "      <th>code_content</th>\n",
       "      <th>text_embedding_cluster</th>\n",
       "    </tr>\n",
       "  </thead>\n",
       "  <tbody>\n",
       "    <tr>\n",
       "      <th>95</th>\n",
       "      <td>670</td>\n",
       "      <td>import os\\nfrom dotenv import load_dotenv\\nimp...</td>\n",
       "      <td>0</td>\n",
       "    </tr>\n",
       "    <tr>\n",
       "      <th>15</th>\n",
       "      <td>603</td>\n",
       "      <td>#importing libraries\\nimport streamlit as st\\n...</td>\n",
       "      <td>1</td>\n",
       "    </tr>\n",
       "  </tbody>\n",
       "</table>\n",
       "</div>"
      ],
      "text/plain": [
       "    user_id                                       code_content  \\\n",
       "95      670  import os\\nfrom dotenv import load_dotenv\\nimp...   \n",
       "15      603  #importing libraries\\nimport streamlit as st\\n...   \n",
       "\n",
       "    text_embedding_cluster  \n",
       "95                       0  \n",
       "15                       1  "
      ]
     },
     "execution_count": 34,
     "metadata": {},
     "output_type": "execute_result"
    }
   ],
   "source": [
    "df.head()"
   ]
  },
  {
   "cell_type": "markdown",
   "metadata": {},
   "source": [
    "### Job Clustering"
   ]
  },
  {
   "cell_type": "code",
   "execution_count": 3,
   "metadata": {},
   "outputs": [],
   "source": [
    "cluster_labels, job_embeddings = job_clustering_using_text_embedding(jobs_df)"
   ]
  },
  {
   "cell_type": "code",
   "execution_count": 4,
   "metadata": {},
   "outputs": [
    {
     "name": "stdout",
     "output_type": "stream",
     "text": [
      "[[-0.03907134 -0.00100394  0.05695781 ...  0.00215536 -0.00116567\n",
      "  -0.00165674]\n",
      " [ 0.023536    0.00811217  0.06555287 ... -0.03065857  0.01251808\n",
      "  -0.00487865]\n",
      " [ 0.00611849  0.01965468  0.02553095 ...  0.00178993  0.01589235\n",
      "  -0.01605593]\n",
      " ...\n",
      " [-0.03207499  0.02174763  0.06351143 ...  0.00148126  0.02691745\n",
      "  -0.04288127]\n",
      " [-0.04714392  0.00977416  0.02165703 ... -0.00809859  0.01875043\n",
      "   0.01469258]\n",
      " [ 0.00530479 -0.00354056  0.06771766 ... -0.00831366  0.01684483\n",
      "   0.00904473]]\n"
     ]
    }
   ],
   "source": [
    "print(job_embeddings)"
   ]
  },
  {
   "cell_type": "code",
   "execution_count": 5,
   "metadata": {},
   "outputs": [
    {
     "data": {
      "image/png": "[encoded data removed]",
      "text/plain": [
       "<Figure size 800x600 with 1 Axes>"
      ]
     },
     "metadata": {},
     "output_type": "display_data"
    }
   ],
   "source": [
    "visualize_clusters(job_embeddings, cluster_labels,jobs_df)"
   ]
  },
  {
   "cell_type": "code",
   "execution_count": 6,
   "metadata": {},
   "outputs": [
    {
     "data": {
      "image/png": "[encoded data removed]",
      "text/plain": [
       "<Figure size 640x480 with 1 Axes>"
      ]
     },
     "metadata": {},
     "output_type": "display_data"
    }
   ],
   "source": [
    "percentages = calculate_matched_percentages(jobs_df, cluster_labels)\n",
    "bar_plot(percentages)"
   ]
  },
  {
   "cell_type": "markdown",
   "metadata": {},
   "source": [
    "#### Clustering using BERT "
   ]
  },
  {
   "cell_type": "code",
   "execution_count": 7,
   "metadata": {},
   "outputs": [
    {
     "name": "stderr",
     "output_type": "stream",
     "text": [
      "Some weights of the model checkpoint at bert-base-uncased were not used when initializing BertModel: ['cls.predictions.transform.dense.weight', 'cls.seq_relationship.bias', 'cls.seq_relationship.weight', 'cls.predictions.decoder.weight', 'cls.predictions.transform.LayerNorm.weight', 'cls.predictions.transform.LayerNorm.bias', 'cls.predictions.bias', 'cls.predictions.transform.dense.bias']\n",
      "- This IS expected if you are initializing BertModel from the checkpoint of a model trained on another task or with another architecture (e.g. initializing a BertForSequenceClassification model from a BertForPreTraining model).\n",
      "- This IS NOT expected if you are initializing BertModel from the checkpoint of a model that you expect to be exactly identical (initializing a BertForSequenceClassification model from a BertForSequenceClassification model).\n"
     ]
    }
   ],
   "source": [
    "cluster_labels2, job_embeddings2 = job_clustering_using_bert(jobs_df)"
   ]
  },
  {
   "cell_type": "code",
   "execution_count": 8,
   "metadata": {},
   "outputs": [
    {
     "data": {
      "image/png": "[encoded data removed]",
      "text/plain": [
       "<Figure size 800x600 with 1 Axes>"
      ]
     },
     "metadata": {},
     "output_type": "display_data"
    }
   ],
   "source": [
    "visualize_clusters(job_embeddings2, cluster_labels2, jobs_df)"
   ]
  },
  {
   "cell_type": "code",
   "execution_count": 9,
   "metadata": {},
   "outputs": [
    {
     "data": {
      "image/png": "[encoded data removed]",
      "text/plain": [
       "<Figure size 640x480 with 1 Axes>"
      ]
     },
     "metadata": {},
     "output_type": "display_data"
    }
   ],
   "source": [
    "percentages = calculate_matched_percentages(jobs_df, cluster_labels2)\n",
    "bar_plot(percentages)"
   ]
  },
  {
   "cell_type": "markdown",
   "metadata": {},
   "source": [
    "#### Job Clustering Using Paragraph embeddings"
   ]
  },
  {
   "cell_type": "code",
   "execution_count": 10,
   "metadata": {},
   "outputs": [
    {
     "name": "stderr",
     "output_type": "stream",
     "text": [
      "/home/tigisty/.local/lib/python3.10/site-packages/sklearn/cluster/_kmeans.py:1416: FutureWarning: The default value of `n_init` will change from 10 to 'auto' in 1.4. Set the value of `n_init` explicitly to suppress the warning\n",
      "  super()._check_params_vs_input(X, default_n_init=10)\n"
     ]
    }
   ],
   "source": [
    "cluster_labels3, job_embeddings3 = job_clustering_using_paragraph_embedding(jobs_df)\n"
   ]
  },
  {
   "cell_type": "code",
   "execution_count": 11,
   "metadata": {},
   "outputs": [
    {
     "data": {
      "image/png": "[encoded data removed]",
      "text/plain": [
       "<Figure size 800x600 with 1 Axes>"
      ]
     },
     "metadata": {},
     "output_type": "display_data"
    }
   ],
   "source": [
    "visualize_clusters(job_embeddings3, cluster_labels3, jobs_df)"
   ]
  },
  {
   "cell_type": "code",
   "execution_count": 12,
   "metadata": {},
   "outputs": [
    {
     "data": {
      "image/png": "[encoded data removed]",
      "text/plain": [
       "<Figure size 640x480 with 1 Axes>"
      ]
     },
     "metadata": {},
     "output_type": "display_data"
    }
   ],
   "source": [
    "percentages = calculate_matched_percentages(jobs_df, cluster_labels3)\n",
    "bar_plot(percentages)"
   ]
  },
  {
   "cell_type": "code",
   "execution_count": 37,
   "metadata": {},
   "outputs": [],
   "source": [
    "# elbow_optimal = elbow_to_find_optimal_k(job_embeddings)\n",
    "# print(elbow_optimal)"
   ]
  },
  {
   "cell_type": "code",
   "execution_count": 17,
   "metadata": {},
   "outputs": [],
   "source": [
    "# silhouette_optimal = silhouette_to_find_optimal_k(job_embeddings)\n",
    "# print(silhouette_optimal)"
   ]
  },
  {
   "cell_type": "code",
   "execution_count": 16,
   "metadata": {},
   "outputs": [
    {
     "name": "stdout",
     "output_type": "stream",
     "text": [
      "Cluster 2 Size: 17\n",
      "Cluster 1 Size: 19\n"
     ]
    }
   ],
   "source": [
    "#count size of each cluster\n",
    "cluster_sizes = Counter(cluster_labels)\n",
    "for label, size in cluster_sizes.items():\n",
    "    print(f\"Cluster {label + 1} Size: {size}\")\n"
   ]
  },
  {
   "cell_type": "code",
   "execution_count": 15,
   "metadata": {},
   "outputs": [
    {
     "name": "stdout",
     "output_type": "stream",
     "text": [
      "Cluster 2 Size: 20\n",
      "Cluster 1 Size: 16\n"
     ]
    }
   ],
   "source": [
    "#count size of each cluster\n",
    "cluster_sizes = Counter(cluster_labels3)\n",
    "for label, size in cluster_sizes.items():\n",
    "    print(f\"Cluster {label + 1} Size: {size}\")\n"
   ]
  },
  {
   "cell_type": "code",
   "execution_count": 17,
   "metadata": {},
   "outputs": [],
   "source": [
    "#adding labels to data frame\n",
    "jobs_df['text_embedding_cluster'] = cluster_labels\n",
    "jobs_df['bert_cluster'] = cluster_labels2\n",
    "jobs_df['paragraph_cluster'] = cluster_labels3\n",
    "jobs_df.to_csv('/home/tigisty/jobEngine/api.job-engine/api/output/extracted_skills/job_skill/clustered_job_desc.csv', index=False)\n"
   ]
  },
  {
   "cell_type": "code",
   "execution_count": 18,
   "metadata": {},
   "outputs": [
    {
     "data": {
      "text/html": [
       "<div>\n",
       "<style scoped>\n",
       "    .dataframe tbody tr th:only-of-type {\n",
       "        vertical-align: middle;\n",
       "    }\n",
       "\n",
       "    .dataframe tbody tr th {\n",
       "        vertical-align: top;\n",
       "    }\n",
       "\n",
       "    .dataframe thead th {\n",
       "        text-align: right;\n",
       "    }\n",
       "</style>\n",
       "<table border=\"1\" class=\"dataframe\">\n",
       "  <thead>\n",
       "    <tr style=\"text-align: right;\">\n",
       "      <th></th>\n",
       "      <th>title</th>\n",
       "      <th>post_link</th>\n",
       "      <th>description</th>\n",
       "      <th>manual_cluster</th>\n",
       "      <th>text_embedding_cluster</th>\n",
       "      <th>bert_cluster</th>\n",
       "      <th>paragraph_cluster</th>\n",
       "    </tr>\n",
       "  </thead>\n",
       "  <tbody>\n",
       "    <tr>\n",
       "      <th>0</th>\n",
       "      <td>Java Software Engineer</td>\n",
       "      <td>https://www.linkedin.com/jobs/view/3372342081/...</td>\n",
       "      <td>About the job\\nAbout us\\n\\nIGT Solutions is a ...</td>\n",
       "      <td>1</td>\n",
       "      <td>1</td>\n",
       "      <td>1</td>\n",
       "      <td>1</td>\n",
       "    </tr>\n",
       "    <tr>\n",
       "      <th>1</th>\n",
       "      <td>Data Engineer</td>\n",
       "      <td>NaN</td>\n",
       "      <td>Hands-on experience in Airflow, REST API and P...</td>\n",
       "      <td>0</td>\n",
       "      <td>0</td>\n",
       "      <td>1</td>\n",
       "      <td>0</td>\n",
       "    </tr>\n",
       "    <tr>\n",
       "      <th>2</th>\n",
       "      <td>Software Engineer (Junior or Senior)</td>\n",
       "      <td>https://www.linkedin.com/jobs/view/3331733065/...</td>\n",
       "      <td>About the job\\nJob Description\\n\\nAbout Samoti...</td>\n",
       "      <td>1</td>\n",
       "      <td>1</td>\n",
       "      <td>0</td>\n",
       "      <td>1</td>\n",
       "    </tr>\n",
       "    <tr>\n",
       "      <th>3</th>\n",
       "      <td>Software Engineer</td>\n",
       "      <td>https://www.linkedin.com/jobs/view/3373533103/...</td>\n",
       "      <td>About the job\\nHi Connections,\\n\\nHope all you...</td>\n",
       "      <td>1</td>\n",
       "      <td>1</td>\n",
       "      <td>1</td>\n",
       "      <td>1</td>\n",
       "    </tr>\n",
       "    <tr>\n",
       "      <th>4</th>\n",
       "      <td>Data Engineer</td>\n",
       "      <td>https://www.linkedin.com/jobs/view/3241808693/...</td>\n",
       "      <td>About the job\\nWe are looking for a talented D...</td>\n",
       "      <td>0</td>\n",
       "      <td>0</td>\n",
       "      <td>0</td>\n",
       "      <td>1</td>\n",
       "    </tr>\n",
       "  </tbody>\n",
       "</table>\n",
       "</div>"
      ],
      "text/plain": [
       "                                  title  \\\n",
       "0                Java Software Engineer   \n",
       "1                         Data Engineer   \n",
       "2  Software Engineer (Junior or Senior)   \n",
       "3                     Software Engineer   \n",
       "4                         Data Engineer   \n",
       "\n",
       "                                           post_link  \\\n",
       "0  https://www.linkedin.com/jobs/view/3372342081/...   \n",
       "1                                                NaN   \n",
       "2  https://www.linkedin.com/jobs/view/3331733065/...   \n",
       "3  https://www.linkedin.com/jobs/view/3373533103/...   \n",
       "4  https://www.linkedin.com/jobs/view/3241808693/...   \n",
       "\n",
       "                                         description  manual_cluster  \\\n",
       "0  About the job\\nAbout us\\n\\nIGT Solutions is a ...               1   \n",
       "1  Hands-on experience in Airflow, REST API and P...               0   \n",
       "2  About the job\\nJob Description\\n\\nAbout Samoti...               1   \n",
       "3  About the job\\nHi Connections,\\n\\nHope all you...               1   \n",
       "4  About the job\\nWe are looking for a talented D...               0   \n",
       "\n",
       "   text_embedding_cluster  bert_cluster  paragraph_cluster  \n",
       "0                       1             1                  1  \n",
       "1                       0             1                  0  \n",
       "2                       1             0                  1  \n",
       "3                       1             1                  1  \n",
       "4                       0             0                  1  "
      ]
     },
     "execution_count": 18,
     "metadata": {},
     "output_type": "execute_result"
    }
   ],
   "source": [
    "jobs_df.head()"
   ]
  },
  {
   "cell_type": "code",
   "execution_count": 19,
   "metadata": {},
   "outputs": [
    {
     "name": "stdout",
     "output_type": "stream",
     "text": [
      "Java Software Engineer\n",
      "Software Engineer (Junior or Senior)\n",
      "Software Engineer\n",
      "Software Engineer\n",
      "Sr. Software Engineer- Java or C++ (Part-Time)\n",
      "SENIOR BACK END ENGINEER\n",
      "software engineer(web3)\n",
      "Backend Engineer (Java)\n",
      "Software Engineer\n",
      "Software Engineer\n",
      "Software Engineer, Back End\n",
      "Software Engineer\n",
      "Software Engineer\n",
      "Full-Stack Software Engineer\n",
      "Full Stack Software Engineer\n",
      "Java Software Engineer\n",
      "C# Software Engineer - AWS\n"
     ]
    }
   ],
   "source": [
    "# Cluster 2 or software Engineering of text embedding\n",
    "cluster_2_jobs = jobs_df[jobs_df['text_embedding_cluster'] == 1]\n",
    "for title in cluster_2_jobs['title']:\n",
    "    print(title)"
   ]
  },
  {
   "cell_type": "code",
   "execution_count": 20,
   "metadata": {},
   "outputs": [
    {
     "name": "stdout",
     "output_type": "stream",
     "text": [
      "Data Engineer\n",
      "Data Engineer\n",
      "Data Engineer - DocPlanner\n",
      "Data Engineer\n",
      "Data Engineer - Stefanini LATAM\n",
      "Junior Data Engineer\n",
      "Data Engineer - Fulltime\n",
      "Azure Data Engineer\n",
      "Data Scientist\n",
      "Data Engineer\n",
      "Data Engineer\n",
      "Data Engineer\n",
      "Data Engineer\n",
      "Machine Learning Engineer\n",
      "Data Engineer\n",
      "Data Engineer\n",
      "Data Engineer\n",
      "Cognos Data Engineer\n",
      "Data Engineer - Verisk\n"
     ]
    }
   ],
   "source": [
    "# Cluster 1 or Data Engineering of text embedding\n",
    "cluster_1_jobs = jobs_df[jobs_df['text_embedding_cluster'] == 0]\n",
    "for title in cluster_1_jobs['title']:\n",
    "    print(title)"
   ]
  },
  {
   "cell_type": "code",
   "execution_count": 21,
   "metadata": {},
   "outputs": [
    {
     "name": "stdout",
     "output_type": "stream",
     "text": [
      "Java Software Engineer\n",
      "Data Engineer\n",
      "Software Engineer\n",
      "Software Engineer\n",
      "Data Engineer - DocPlanner\n",
      "SENIOR BACK END ENGINEER\n",
      "software engineer(web3)\n",
      "Data Engineer - Stefanini LATAM\n",
      "Backend Engineer (Java)\n",
      "Data Engineer - Fulltime\n",
      "Software Engineer\n",
      "Azure Data Engineer\n",
      "Data Engineer\n",
      "Data Engineer\n",
      "Data Engineer\n",
      "Cognos Data Engineer\n",
      "Data Engineer - Verisk\n"
     ]
    }
   ],
   "source": [
    "# Cluster 2 or software Engineering using bert embedding\n",
    "cluster_2_jobs = jobs_df[jobs_df['bert_cluster'] == 1]\n",
    "for title in cluster_2_jobs['title']:\n",
    "    print(title)"
   ]
  },
  {
   "cell_type": "code",
   "execution_count": 22,
   "metadata": {},
   "outputs": [
    {
     "name": "stdout",
     "output_type": "stream",
     "text": [
      "Software Engineer (Junior or Senior)\n",
      "Data Engineer\n",
      "Data Engineer\n",
      "Sr. Software Engineer- Java or C++ (Part-Time)\n",
      "Software Engineer\n",
      "Software Engineer\n",
      "Junior Data Engineer\n",
      "Software Engineer, Back End\n",
      "Data Scientist\n",
      "Data Engineer\n",
      "Software Engineer\n",
      "Data Engineer\n",
      "Machine Learning Engineer\n",
      "Full-Stack Software Engineer\n",
      "Full Stack Software Engineer\n",
      "Data Engineer\n",
      "Data Engineer\n",
      "Java Software Engineer\n",
      "C# Software Engineer - AWS\n"
     ]
    }
   ],
   "source": [
    "# Cluster 1 or Data Engineering using bert embedding\n",
    "cluster_1_jobs = jobs_df[jobs_df['bert_cluster'] == 0]\n",
    "for title in cluster_1_jobs['title']:\n",
    "    print(title)"
   ]
  },
  {
   "cell_type": "code",
   "execution_count": 24,
   "metadata": {},
   "outputs": [
    {
     "name": "stdout",
     "output_type": "stream",
     "text": [
      "Data Engineer\n",
      "Data Engineer - DocPlanner\n",
      "software engineer(web3)\n",
      "Data Engineer - Stefanini LATAM\n",
      "Junior Data Engineer\n",
      "Data Engineer - Fulltime\n",
      "Data Scientist\n",
      "Data Engineer\n",
      "Data Engineer\n",
      "Software Engineer\n",
      "Data Engineer\n",
      "Data Engineer\n",
      "Machine Learning Engineer\n",
      "Data Engineer\n",
      "Cognos Data Engineer\n",
      "Data Engineer - Verisk\n"
     ]
    }
   ],
   "source": [
    "# Cluster 2 or software Engineering of text embedding\n",
    "cluster_2_jobs = jobs_df[jobs_df['paragraph_cluster'] == 0]\n",
    "for title in cluster_2_jobs['title']:\n",
    "    print(title)"
   ]
  },
  {
   "cell_type": "code",
   "execution_count": 25,
   "metadata": {},
   "outputs": [
    {
     "name": "stdout",
     "output_type": "stream",
     "text": [
      "Java Software Engineer\n",
      "Software Engineer (Junior or Senior)\n",
      "Software Engineer\n",
      "Data Engineer\n",
      "Software Engineer\n",
      "Data Engineer\n",
      "Sr. Software Engineer- Java or C++ (Part-Time)\n",
      "SENIOR BACK END ENGINEER\n",
      "Backend Engineer (Java)\n",
      "Software Engineer\n",
      "Software Engineer\n",
      "Software Engineer, Back End\n",
      "Software Engineer\n",
      "Azure Data Engineer\n",
      "Full-Stack Software Engineer\n",
      "Full Stack Software Engineer\n",
      "Data Engineer\n",
      "Data Engineer\n",
      "Java Software Engineer\n",
      "C# Software Engineer - AWS\n"
     ]
    }
   ],
   "source": [
    "# Cluster 2 or software Engineering of text embedding\n",
    "cluster_2_jobs = jobs_df[jobs_df['paragraph_cluster'] == 1]\n",
    "for title in cluster_2_jobs['title']:\n",
    "    print(title)"
   ]
  },
  {
   "cell_type": "markdown",
   "metadata": {},
   "source": [
    "\n",
    "\n",
    "\n"
   ]
  },
  {
   "cell_type": "code",
   "execution_count": null,
   "metadata": {},
   "outputs": [],
   "source": [
    "keys = [About us, About Samotics, What We Are Looking For, Culture and tech stack, What We Offer, RequirementsRoles & Responsibilities,#ExperienceNeeded,\\\n",
    "    What You Will Do, What You Will Need, Nice to have, Qualifications,Responsibilities, Qualifications, Company Overview,]"
   ]
  },
  {
   "cell_type": "code",
   "execution_count": null,
   "metadata": {},
   "outputs": [],
   "source": []
  },
  {
   "cell_type": "code",
   "execution_count": null,
   "metadata": {},
   "outputs": [],
   "source": []
  },
  {
   "cell_type": "code",
   "execution_count": null,
   "metadata": {},
   "outputs": [],
   "source": []
  },
  {
   "cell_type": "code",
   "execution_count": null,
   "metadata": {},
   "outputs": [],
   "source": []
  },
  {
   "cell_type": "markdown",
   "metadata": {},
   "source": [
    "## CV Generation"
   ]
  },
  {
   "cell_type": "code",
   "execution_count": null,
   "metadata": {},
   "outputs": [],
   "source": []
  },
  {
   "cell_type": "code",
   "execution_count": 2,
   "metadata": {},
   "outputs": [
    {
     "data": {
      "text/html": [
       "<div>\n",
       "<style scoped>\n",
       "    .dataframe tbody tr th:only-of-type {\n",
       "        vertical-align: middle;\n",
       "    }\n",
       "\n",
       "    .dataframe tbody tr th {\n",
       "        vertical-align: top;\n",
       "    }\n",
       "\n",
       "    .dataframe thead th {\n",
       "        text-align: right;\n",
       "    }\n",
       "</style>\n",
       "<table border=\"1\" class=\"dataframe\">\n",
       "  <thead>\n",
       "    <tr style=\"text-align: right;\">\n",
       "      <th></th>\n",
       "      <th>title</th>\n",
       "      <th>post_link</th>\n",
       "      <th>description</th>\n",
       "      <th>manual_cluster</th>\n",
       "      <th>text_embedding_cluster</th>\n",
       "      <th>bert_cluster</th>\n",
       "    </tr>\n",
       "  </thead>\n",
       "  <tbody>\n",
       "    <tr>\n",
       "      <th>0</th>\n",
       "      <td>Java Software Engineer</td>\n",
       "      <td>https://www.linkedin.com/jobs/view/3372342081/...</td>\n",
       "      <td>About the job\\nAbout us\\n\\nIGT Solutions is a ...</td>\n",
       "      <td>1</td>\n",
       "      <td>1</td>\n",
       "      <td>1</td>\n",
       "    </tr>\n",
       "    <tr>\n",
       "      <th>1</th>\n",
       "      <td>Data Engineer</td>\n",
       "      <td>NaN</td>\n",
       "      <td>Hands-on experience in Airflow, REST API and P...</td>\n",
       "      <td>0</td>\n",
       "      <td>0</td>\n",
       "      <td>1</td>\n",
       "    </tr>\n",
       "    <tr>\n",
       "      <th>2</th>\n",
       "      <td>Software Engineer (Junior or Senior)</td>\n",
       "      <td>https://www.linkedin.com/jobs/view/3331733065/...</td>\n",
       "      <td>About the job\\nJob Description\\n\\nAbout Samoti...</td>\n",
       "      <td>1</td>\n",
       "      <td>1</td>\n",
       "      <td>0</td>\n",
       "    </tr>\n",
       "    <tr>\n",
       "      <th>3</th>\n",
       "      <td>Software Engineer</td>\n",
       "      <td>https://www.linkedin.com/jobs/view/3373533103/...</td>\n",
       "      <td>About the job\\nHi Connections,\\n\\nHope all you...</td>\n",
       "      <td>1</td>\n",
       "      <td>1</td>\n",
       "      <td>1</td>\n",
       "    </tr>\n",
       "    <tr>\n",
       "      <th>4</th>\n",
       "      <td>Data Engineer</td>\n",
       "      <td>https://www.linkedin.com/jobs/view/3241808693/...</td>\n",
       "      <td>About the job\\nWe are looking for a talented D...</td>\n",
       "      <td>0</td>\n",
       "      <td>0</td>\n",
       "      <td>0</td>\n",
       "    </tr>\n",
       "  </tbody>\n",
       "</table>\n",
       "</div>"
      ],
      "text/plain": [
       "                                  title  \\\n",
       "0                Java Software Engineer   \n",
       "1                         Data Engineer   \n",
       "2  Software Engineer (Junior or Senior)   \n",
       "3                     Software Engineer   \n",
       "4                         Data Engineer   \n",
       "\n",
       "                                           post_link  \\\n",
       "0  https://www.linkedin.com/jobs/view/3372342081/...   \n",
       "1                                                NaN   \n",
       "2  https://www.linkedin.com/jobs/view/3331733065/...   \n",
       "3  https://www.linkedin.com/jobs/view/3373533103/...   \n",
       "4  https://www.linkedin.com/jobs/view/3241808693/...   \n",
       "\n",
       "                                         description  manual_cluster  \\\n",
       "0  About the job\\nAbout us\\n\\nIGT Solutions is a ...               1   \n",
       "1  Hands-on experience in Airflow, REST API and P...               0   \n",
       "2  About the job\\nJob Description\\n\\nAbout Samoti...               1   \n",
       "3  About the job\\nHi Connections,\\n\\nHope all you...               1   \n",
       "4  About the job\\nWe are looking for a talented D...               0   \n",
       "\n",
       "   text_embedding_cluster  bert_cluster  \n",
       "0                       1             1  \n",
       "1                       0             1  \n",
       "2                       1             0  \n",
       "3                       1             1  \n",
       "4                       0             0  "
      ]
     },
     "execution_count": 2,
     "metadata": {},
     "output_type": "execute_result"
    }
   ],
   "source": [
    "\n",
    "df = pd.read_csv('/home/tigisty/jobEngine/api.job-engine/api/output/extracted_skills/job_skill/clustered_job_desc.csv')\n",
    "df.head()"
   ]
  },
  {
   "cell_type": "code",
   "execution_count": 3,
   "metadata": {},
   "outputs": [
    {
     "name": "stdout",
     "output_type": "stream",
     "text": [
      "Java Software Engineer\n",
      "Software Engineer (Junior or Senior)\n",
      "Software Engineer\n",
      "Software Engineer\n",
      "Sr. Software Engineer- Java or C++ (Part-Time)\n",
      "SENIOR BACK END ENGINEER\n",
      "software engineer(web3)\n",
      "Backend Engineer (Java)\n",
      "Software Engineer\n",
      "Software Engineer\n",
      "Software Engineer, Back End\n",
      "Software Engineer\n",
      "Software Engineer\n",
      "Full-Stack Software Engineer\n",
      "Full Stack Software Engineer\n",
      "Java Software Engineer\n",
      "C# Software Engineer - AWS\n"
     ]
    }
   ],
   "source": [
    "# Cluster 2 or software Engineering of text embedding\n",
    "cluster_2_jobs = df[df['text_embedding_cluster'] == 1]\n",
    " \n",
    "for title in cluster_2_jobs['title']:\n",
    "    print(title)"
   ]
  },
  {
   "cell_type": "code",
   "execution_count": 4,
   "metadata": {},
   "outputs": [
    {
     "name": "stdout",
     "output_type": "stream",
     "text": [
      "Data Engineer\n",
      "Data Engineer\n",
      "Data Engineer - DocPlanner\n",
      "Data Engineer\n",
      "Data Engineer - Stefanini LATAM\n",
      "Junior Data Engineer\n",
      "Data Engineer - Fulltime\n",
      "Azure Data Engineer\n",
      "Data Scientist\n",
      "Data Engineer\n",
      "Data Engineer\n",
      "Data Engineer\n",
      "Data Engineer\n",
      "Machine Learning Engineer\n",
      "Data Engineer\n",
      "Data Engineer\n",
      "Data Engineer\n",
      "Cognos Data Engineer\n",
      "Data Engineer - Verisk\n"
     ]
    }
   ],
   "source": [
    "# Cluster 2 or software Engineering of text embedding\n",
    "cluster_1_jobs = df[df['text_embedding_cluster'] == 0]\n",
    " \n",
    "for title in cluster_1_jobs['title']:\n",
    "    print(title)"
   ]
  },
  {
   "cell_type": "code",
   "execution_count": 12,
   "metadata": {},
   "outputs": [],
   "source": [
    "template  = \"You are a helpful AI assistant capable of generate a comprehensive CV (curriculum vitae)\\\n",
    "        based on the following {job_descriptions}. The CV should highlight qualifications, relevant experience, and skills aligning with each positions requirements.\\\n",
    "            the generated cv must have the following key points:\\\n",
    "            ### Roles : the roles should be a unique role that can represent all the positions of job descriptions.\\\n",
    "            ### Educational Background: this is the educational degree required by the jobs.\\\n",
    "            ### Experiences: the experience should be the required experiences in a particular specialization. don't include experiences in a specific tool or technique. \\\n",
    "            ### Skills: put all the skills required by the role in this category.\\\n",
    "            ### Domain Knowledge and Attitudes:  Add domain knowledge and attitude needed for the roles.\"            \n"
   ]
  },
  {
   "cell_type": "code",
   "execution_count": 13,
   "metadata": {},
   "outputs": [],
   "source": [
    "result = generating_ideal_cv(template,cluster_1_jobs)"
   ]
  },
  {
   "cell_type": "code",
   "execution_count": 15,
   "metadata": {},
   "outputs": [
    {
     "name": "stdout",
     "output_type": "stream",
     "text": [
      "('**[Your Name]**\\n'\n",
      " '\\n'\n",
      " '[Your Address] | [City, State, Zip] | [Your Email] | [Your Phone Number]\\n'\n",
      " '\\n'\n",
      " '---\\n'\n",
      " '\\n'\n",
      " '### **Objective**\\n'\n",
      " '\\n'\n",
      " 'A dedicated and results-driven professional aiming to leverage a '\n",
      " 'comprehensive background in data engineering and machine learning to '\n",
      " 'contribute effectively to an innovative organization. Possessing a robust '\n",
      " 'blend of technical expertise, analytical acumen, and a proactive attitude, I '\n",
      " 'am keen on applying my skills to solve complex problems, drive business '\n",
      " 'value, and facilitate data-driven decision-making.\\n'\n",
      " '\\n'\n",
      " '---\\n'\n",
      " '\\n'\n",
      " '### **Role:** Data & Machine Learning Engineer\\n'\n",
      " '\\n'\n",
      " '---\\n'\n",
      " '\\n'\n",
      " '### **Educational Background**\\n'\n",
      " '\\n'\n",
      " '- Bachelor’s/Master’s Degree in Computer Science, Engineering, Data Science, '\n",
      " 'Mathematics, or a related technical field.\\n'\n",
      " '\\n'\n",
      " '---\\n'\n",
      " '\\n'\n",
      " '### **Experiences**\\n'\n",
      " '\\n'\n",
      " '- Extensive experience in the design, construction, and optimization of data '\n",
      " 'infrastructures.\\n'\n",
      " '- Proven track record of managing and automating large-scale, high-volume '\n",
      " 'data pipelines.\\n'\n",
      " '- Experience in integrating data from a diverse array of datasets, systems, '\n",
      " 'and storage mediums.\\n'\n",
      " '- Proficient in conducting data analysis and modeling to support business '\n",
      " 'decision-making.\\n'\n",
      " '- Hands-on experience in designing and implementing machine learning models '\n",
      " 'to solve real-world problems.\\n'\n",
      " '- Demonstrated ability to work collaboratively in multidisciplinary teams to '\n",
      " 'implement complex projects from conception to completion.\\n'\n",
      " '\\n'\n",
      " '---\\n'\n",
      " '\\n'\n",
      " '### **Skills**\\n'\n",
      " '\\n'\n",
      " '- Strong programming skills, especially in Python, SQL, and R.\\n'\n",
      " '- Deep understanding of ETL (Extract, Transform, Load) processes and '\n",
      " 'experience with ETL tools.\\n'\n",
      " '- Familiarity with big data technologies (e.g., Hadoop, Spark) and cloud '\n",
      " 'platforms (e.g., AWS, Azure, GCP).\\n'\n",
      " '- Proficient in using machine learning frameworks and libraries (e.g., '\n",
      " 'TensorFlow, PyTorch, Scikit-learn).\\n'\n",
      " '- Solid foundation in data structures, algorithms, and software engineering '\n",
      " 'best practices.\\n'\n",
      " '- Experience with data visualization tools and techniques.\\n'\n",
      " '\\n'\n",
      " '---\\n'\n",
      " '\\n'\n",
      " '### **Domain Knowledge and Attitudes**\\n'\n",
      " '\\n'\n",
      " '- Comprehensive knowledge of data engineering and machine learning '\n",
      " 'principles, along with applicable industry standards.\\n'\n",
      " '- Creative problem-solving skills, with the ability to translate complex '\n",
      " 'requirements into scalable technical solutions.\\n'\n",
      " '- Strong analytical skills, capable of working with large data sets to '\n",
      " 'identify trends, patterns, and insights.\\n'\n",
      " '- Excellent communication and collaboration skills, with the ability to '\n",
      " 'articulate technical concepts to non-technical stakeholders.\\n'\n",
      " '- Continuous learner with a passion for staying updated on the latest '\n",
      " 'industry trends and technologies.\\n'\n",
      " '- Highly organized and detail-oriented, with a proactive approach to '\n",
      " 'tackling challenges and achieving objectives.\\n'\n",
      " '\\n'\n",
      " '---\\n'\n",
      " '\\n'\n",
      " '*Note: This CV template is a general illustration based on the commonalities '\n",
      " 'of the job descriptions provided. It is advisable to tailor this CV further '\n",
      " 'to match specific job applications, highlighting particular experiences and '\n",
      " 'skills most relevant to each role.*\\n')\n"
     ]
    }
   ],
   "source": [
    "pprint(result)"
   ]
  },
  {
   "cell_type": "code",
   "execution_count": 10,
   "metadata": {},
   "outputs": [
    {
     "name": "stdout",
     "output_type": "stream",
     "text": [
      "('Based on the provided job descriptions and requirements for roles related to '\n",
      " 'Data Engineering, including specializations such as Azure Data Engineer, '\n",
      " 'Junior Data Engineer, and Machine Learning Engineer, as well as a Data '\n",
      " 'Scientist role, here is a representative CV tailored to these positions.\\n'\n",
      " '\\n'\n",
      " '---\\n'\n",
      " '\\n'\n",
      " '## [Your Name]\\n'\n",
      " '\\n'\n",
      " '[Your Contact Information: Phone | Email | LinkedIn]\\n'\n",
      " '\\n'\n",
      " '---\\n'\n",
      " '\\n'\n",
      " '### Objective\\n'\n",
      " '\\n'\n",
      " 'Dynamic and results-oriented Data Engineer and Scientist with extensive '\n",
      " 'experience in designing, implementing, and optimizing data solutions and '\n",
      " 'pipelines to enhance business operations. Proven track record in leveraging '\n",
      " 'data-driven insights to drive business strategies and decisions. Seeking to '\n",
      " 'apply expertise in a challenging environment that values innovation and a '\n",
      " 'data-centric approach to problem solving.\\n'\n",
      " '\\n'\n",
      " '---\\n'\n",
      " '\\n'\n",
      " '### Role\\n'\n",
      " '\\n'\n",
      " 'Data Engineer and Scientist\\n'\n",
      " '\\n'\n",
      " '---\\n'\n",
      " '\\n'\n",
      " '### Educational Background\\n'\n",
      " '\\n'\n",
      " '- **Master’s of Science in Data Engineering**\\n'\n",
      " '  - [University Name], [Year of Graduation]\\n'\n",
      " '- **Bachelor’s Degree in Computer Science**\\n'\n",
      " '  - [University Name], [Year of Graduation]\\n'\n",
      " '\\n'\n",
      " 'Relevant Coursework: Big Data Analytics, Machine Learning, Database '\n",
      " 'Management\\n'\n",
      " '\\n'\n",
      " '---\\n'\n",
      " '\\n'\n",
      " '### Experiences\\n'\n",
      " '\\n'\n",
      " '- **Data Engineering:** Demonstrated experience in designing and maintaining '\n",
      " 'scalable data pipelines, and ensuring the integrity and availability of data '\n",
      " 'across the enterprise.\\n'\n",
      " '- **Data Science:** Strong background in applying statistical analysis and '\n",
      " 'machine learning techniques to derive insights from large datasets.\\n'\n",
      " '- **Software Development:** Extensive involvement in developing robust, '\n",
      " 'scalable software solutions, with a focus on optimizing data processing and '\n",
      " 'analytics.\\n'\n",
      " '\\n'\n",
      " '---\\n'\n",
      " '\\n'\n",
      " '### Skills\\n'\n",
      " '\\n'\n",
      " '- **Programming Languages:** Proficient in Python, SQL, and Scala.\\n'\n",
      " '- **Big Data Technologies:** Hands-on experience with Hadoop, Spark, '\n",
      " 'Airflow.\\n'\n",
      " '- **Cloud Platforms:** Skilled in working with Azure, AWS, and Google Cloud '\n",
      " 'Platform.\\n'\n",
      " '- **Data Modeling and ETL Processes:** Expertise in designing data models '\n",
      " 'and developing ETL processes that facilitate efficient data extraction, '\n",
      " 'transformation, and loading.\\n'\n",
      " '- **Machine Learning Tools:** Familiar with TensorFlow, PyTorch, and '\n",
      " 'Scikit-Learn.\\n'\n",
      " '- **Data Visualization:** Competent in using Tableau, Power BI for '\n",
      " 'insightful data reporting and visualization.\\n'\n",
      " '\\n'\n",
      " '---\\n'\n",
      " '\\n'\n",
      " '### Domain Knowledge and Attitudes\\n'\n",
      " '\\n'\n",
      " '- **Agility and Adaptability:** Adept at quickly learning new technologies '\n",
      " 'and adapting to evolving business needs.\\n'\n",
      " '- **Problem-Solving:** Exceptional analytical skills with a keen ability to '\n",
      " 'address challenges creatively and effectively.\\n'\n",
      " '- **Team Collaboration:** Strong team player with experience working in '\n",
      " 'cross-functional teams to achieve project goals and deadlines.\\n'\n",
      " '- **Communication:** Clear and persuasive communicator, capable of '\n",
      " 'explaining complex data insights to non-technical stakeholders.\\n'\n",
      " '\\n'\n",
      " '---\\n'\n",
      " '\\n'\n",
      " '[Your Name]\\n'\n",
      " '\\n'\n",
      " '---\\n'\n",
      " '\\n'\n",
      " 'This CV amalgamates the typical requirements and qualifications for Data '\n",
      " 'Engineer and Scientist roles noted in the provided job descriptions. It is '\n",
      " 'designed to showcase a versatile skill set that covers both domains, '\n",
      " 'aligning with the demand for a combination of engineering and analytical '\n",
      " 'skills in the industry.')\n"
     ]
    }
   ],
   "source": [
    "pprint(result)"
   ]
  },
  {
   "cell_type": "code",
   "execution_count": 5,
   "metadata": {},
   "outputs": [],
   "source": [
    "job_embeddings = job_clustering_using_text_embedding(jobs_df)\n"
   ]
  },
  {
   "cell_type": "code",
   "execution_count": 3,
   "metadata": {},
   "outputs": [],
   "source": [
    "def generate_paragraph_ids(description):\n",
    "    description_id = jobs_df[jobs_df['description'] == description].index[0] + 1\n",
    "    paragraphs = description.split('\\n')\n",
    "    paragraph_ids = [f\"j{description_id}p{i+1}\" for i in range(len(paragraphs))]\n",
    "    return paragraph_ids\n",
    "# jobs_df['paragraph_ids'] = jobs_df['description'].apply(generate_paragraph_ids)\n"
   ]
  },
  {
   "cell_type": "markdown",
   "metadata": {},
   "source": []
  }
 ],
 "metadata": {
  "kernelspec": {
   "display_name": "autog",
   "language": "python",
   "name": "python3"
  },
  "language_info": {
   "codemirror_mode": {
    "name": "ipython",
    "version": 3
   },
   "file_extension": ".py",
   "mimetype": "text/x-python",
   "name": "python",
   "nbconvert_exporter": "python",
   "pygments_lexer": "ipython3",
   "version": "3.10.13"
  }
 },
 "nbformat": 4,
 "nbformat_minor": 2
}
